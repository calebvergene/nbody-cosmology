{
 "cells": [
  {
   "cell_type": "code",
   "execution_count": 1,
   "metadata": {},
   "outputs": [],
   "source": [
    "## imports\n",
    "import numpy as np\n",
    "import matplotlib.pyplot as plt\n",
    "from matplotlib.animation import FuncAnimation\n",
    "import time"
   ]
  },
  {
   "cell_type": "markdown",
   "metadata": {},
   "source": [
    "This will be the god class for the project. Object for solar system."
   ]
  },
  {
   "cell_type": "code",
   "execution_count": 2,
   "metadata": {},
   "outputs": [],
   "source": [
    "## init class\n",
    "class SolarSystem:\n",
    "    def __init__(self):\n",
    "        # gravitational constant\n",
    "        self.G = 4 * np.pi**2\n",
    "        \n",
    "        # for each planet\n",
    "        self.bodies = self.create_planets()\n",
    "        self.time = 0.0\n"
   ]
  },
  {
   "cell_type": "code",
   "execution_count": null,
   "metadata": {},
   "outputs": [],
   "source": [
    "def create_planets(self):\n",
    "        \"\"\"\n",
    "        create the planets in the solar system with their initial positions, velocities, and properties.\n",
    "        - returns:\n",
    "            list: a list of dictionaries. each dict is a planet.\n",
    "        \"\"\"\n",
    "        # [name, mass, distance from sun, orbital speed, color, size] tried to get measuremnts similar to real solar system\n",
    "        planet_data = [\n",
    "            [\"Sun\",     1.0,      0.0,   0.0,   \"gold\",      300],\n",
    "            [\"Mercury\", 1.66e-7,  0.39,  9.8,   \"gray\",      20],\n",
    "            [\"Venus\",   2.45e-6,  0.72,  7.4,   \"orange\",    25],\n",
    "            [\"Earth\",   3.0e-6,   1.0,   6.3,   \"blue\",      25],\n",
    "            [\"Mars\",    3.23e-7,  1.5,   5.1,   \"red\",       22],\n",
    "            [\"Jupiter\", 9.55e-4,  5.2,   2.8,   \"brown\",     100],\n",
    "            [\"Saturn\",  2.86e-4,  9.5,   2.0,   \"goldenrod\", 90],\n",
    "            [\"Uranus\",  4.37e-5,  19.2,  1.4,   \"lightblue\", 50],\n",
    "            [\"Neptune\", 5.15e-5,  30.1,  1.1,   \"darkblue\",  50]\n",
    "        ]\n",
    "        \n",
    "        bodies = []\n",
    "        for name, mass, distance, speed, color, size in planet_data:\n",
    "            angle = np.random.uniform(0, 2*np.pi) if name != \"Sun\" else 0\n",
    "            \n",
    "            # (x, y coordinates)\n",
    "            x = distance * np.cos(angle)\n",
    "            y = distance * np.sin(angle)\n",
    "            \n",
    "            if name == \"Sun\":\n",
    "                vx, vy = 0.0, 0.0\n",
    "            else:\n",
    "                vx = -speed * np.sin(angle)\n",
    "                vy = speed * np.cos(angle)\n",
    "            \n",
    "            body = {\n",
    "                'name': name,\n",
    "                'mass': mass,\n",
    "                'x': x, 'y': y,\n",
    "                'vx': vx, 'vy': vy,\n",
    "                'color': color,\n",
    "                'size': size,\n",
    "                'trail_x': [], 'trail_y': []\n",
    "            }\n",
    "            bodies.append(body)\n",
    "        \n",
    "        return bodies"
   ]
  }
 ],
 "metadata": {
  "kernelspec": {
   "display_name": "Python 3",
   "language": "python",
   "name": "python3"
  },
  "language_info": {
   "codemirror_mode": {
    "name": "ipython",
    "version": 3
   },
   "file_extension": ".py",
   "mimetype": "text/x-python",
   "name": "python",
   "nbconvert_exporter": "python",
   "pygments_lexer": "ipython3",
   "version": "3.12.3"
  }
 },
 "nbformat": 4,
 "nbformat_minor": 2
}
